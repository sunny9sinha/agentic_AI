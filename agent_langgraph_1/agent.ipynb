{
 "cells": [
  {
   "cell_type": "markdown",
   "id": "d0dc0d41",
   "metadata": {},
   "source": [
    "### Config the model"
   ]
  },
  {
   "cell_type": "code",
   "execution_count": 1,
   "id": "e9310e86",
   "metadata": {},
   "outputs": [
    {
     "name": "stdout",
     "output_type": "stream",
     "text": [
      "Hi there! How can I help you today?\n"
     ]
    }
   ],
   "source": [
    "from langchain_google_genai import ChatGoogleGenerativeAI\n",
    "model=ChatGoogleGenerativeAI(model='gemini-1.5-flash')\n",
    "output=model.invoke(\"hi\")\n",
    "print(output.content)"
   ]
  },
  {
   "cell_type": "markdown",
   "id": "9e24db20",
   "metadata": {},
   "source": [
    "### Config the embedding model"
   ]
  },
  {
   "cell_type": "code",
   "execution_count": 2,
   "id": "143cd16d",
   "metadata": {},
   "outputs": [
    {
     "name": "stderr",
     "output_type": "stream",
     "text": [
      "c:\\Users\\sunny\\anaconda3\\envs\\agentic_2_base\\Lib\\site-packages\\tqdm\\auto.py:21: TqdmWarning: IProgress not found. Please update jupyter and ipywidgets. See https://ipywidgets.readthedocs.io/en/stable/user_install.html\n",
      "  from .autonotebook import tqdm as notebook_tqdm\n",
      "c:\\Users\\sunny\\anaconda3\\envs\\agentic_2_base\\Lib\\site-packages\\huggingface_hub\\file_download.py:143: UserWarning: `huggingface_hub` cache-system uses symlinks by default to efficiently store duplicated files but your machine does not support them in C:\\Users\\sunny\\.cache\\huggingface\\hub\\models--BAAI--bge-small-en. Caching files will still work but in a degraded version that might require more space on your disk. This warning can be disabled by setting the `HF_HUB_DISABLE_SYMLINKS_WARNING` environment variable. For more details, see https://huggingface.co/docs/huggingface_hub/how-to-cache#limitations.\n",
      "To support symlinks on Windows, you either need to activate Developer Mode or to run Python as an administrator. In order to activate developer mode, see this article: https://docs.microsoft.com/en-us/windows/apps/get-started/enable-your-device-for-development\n",
      "  warnings.warn(message)\n"
     ]
    },
    {
     "data": {
      "text/plain": [
       "384"
      ]
     },
     "execution_count": 2,
     "metadata": {},
     "output_type": "execute_result"
    }
   ],
   "source": [
    "from langchain_huggingface import HuggingFaceEmbeddings\n",
    "embeddings = HuggingFaceEmbeddings(model_name=\"BAAI/bge-small-en\")\n",
    "len(embeddings.embed_query(\"hi\"))"
   ]
  },
  {
   "cell_type": "markdown",
   "id": "69af49a2",
   "metadata": {},
   "source": [
    "### Creating the agent"
   ]
  },
  {
   "cell_type": "code",
   "execution_count": 12,
   "id": "f0478ee7",
   "metadata": {},
   "outputs": [],
   "source": [
    "import operator\n",
    "from typing import List\n",
    "from pydantic import BaseModel , Field\n",
    "from langchain.prompts import PromptTemplate\n",
    "from typing import TypedDict, Annotated, Sequence\n",
    "from langchain_core.messages import BaseMessage\n",
    "from langchain_core.output_parsers import StrOutputParser\n",
    "from langchain_core.prompts import ChatPromptTemplate, PromptTemplate\n",
    "from langchain_core.runnables import RunnablePassthrough\n",
    "from langchain_core.messages import HumanMessage, AIMessage\n",
    "from langgraph.graph import StateGraph,END, START\n",
    "from langchain.output_parsers import PydanticOutputParser\n",
    "from langchain.document_loaders import PyPDFLoader\n",
    "from langchain.text_splitter import RecursiveCharacterTextSplitter\n",
    "from langchain.embeddings import HuggingFaceEmbeddings\n",
    "from langchain.vectorstores import FAISS\n",
    "\n"
   ]
  },
  {
   "cell_type": "code",
   "execution_count": 4,
   "id": "7b46d2af",
   "metadata": {},
   "outputs": [],
   "source": [
    "class TopicSelectionParser(BaseModel):\n",
    "    Topic:str=Field(description=\"selected topic\")\n",
    "    Reasoning:str=Field(description='Reasoning behind topic selection')"
   ]
  },
  {
   "cell_type": "code",
   "execution_count": 5,
   "id": "1417555a",
   "metadata": {},
   "outputs": [
    {
     "data": {
      "text/plain": [
       "'The output should be formatted as a JSON instance that conforms to the JSON schema below.\\n\\nAs an example, for the schema {\"properties\": {\"foo\": {\"title\": \"Foo\", \"description\": \"a list of strings\", \"type\": \"array\", \"items\": {\"type\": \"string\"}}}, \"required\": [\"foo\"]}\\nthe object {\"foo\": [\"bar\", \"baz\"]} is a well-formatted instance of the schema. The object {\"properties\": {\"foo\": [\"bar\", \"baz\"]}} is not well-formatted.\\n\\nHere is the output schema:\\n```\\n{\"properties\": {\"Topic\": {\"description\": \"selected topic\", \"title\": \"Topic\", \"type\": \"string\"}, \"Reasoning\": {\"description\": \"Reasoning behind topic selection\", \"title\": \"Reasoning\", \"type\": \"string\"}}, \"required\": [\"Topic\", \"Reasoning\"]}\\n```'"
      ]
     },
     "execution_count": 5,
     "metadata": {},
     "output_type": "execute_result"
    }
   ],
   "source": [
    "parser=PydanticOutputParser(pydantic_object=TopicSelectionParser)\n",
    "parser.get_format_instructions()"
   ]
  },
  {
   "cell_type": "code",
   "execution_count": 6,
   "id": "1db3eaaa",
   "metadata": {},
   "outputs": [],
   "source": [
    "class AgentState(TypedDict):\n",
    "    messages: Annotated[Sequence[BaseMessage], operator.add]"
   ]
  },
  {
   "cell_type": "code",
   "execution_count": 56,
   "id": "ae66e880",
   "metadata": {},
   "outputs": [],
   "source": [
    "def function_1(state:AgentState):\n",
    "    \n",
    "    question=state[\"messages\"][-1]\n",
    "    \n",
    "    print(\"Question\",question)\n",
    "    \n",
    "    template=\"\"\"\n",
    "    Your task is to classify the given user query into one of the following related categories: [Constitution,LLM, Latest]. If question is about \n",
    "    Indian constitution then Constitution, if question is generic then LLM and if question is about some recent thing which you don't know then Latest.\n",
    "    Only respond with the category name and nothing else.\n",
    "\n",
    "    User query: {question}\n",
    "    {format_instructions}\n",
    "    \"\"\"\n",
    "    \n",
    "    prompt= PromptTemplate(\n",
    "        template=template,\n",
    "        input_variable=[\"question\"],\n",
    "        partial_variables={\"format_instructions\": parser.get_format_instructions()}\n",
    "    )\n",
    "    \n",
    "    \n",
    "    chain= prompt | model | parser\n",
    "    \n",
    "    \n",
    "    response = chain.invoke({\"question\":question})\n",
    "    \n",
    "    print(\"Parsed response:\", response)\n",
    "    \n",
    "    return {\"messages\": [response.Topic]}"
   ]
  },
  {
   "cell_type": "code",
   "execution_count": 57,
   "id": "3da2f8e6",
   "metadata": {},
   "outputs": [],
   "source": [
    "def router(state:AgentState):\n",
    "    print(\"-> ROUTER ->\")\n",
    "    \n",
    "    last_message=state[\"messages\"][-1]\n",
    "    print(\"last_message:\", last_message)\n",
    "    \n",
    "    if \"constitution\" in last_message.lower():\n",
    "        return \"RAG Call\"\n",
    "    elif \"latest\" in last_message.lower():\n",
    "        return \"WEB Call\"\n",
    "    else:\n",
    "        return \"LLM Call\""
   ]
  },
  {
   "cell_type": "code",
   "execution_count": 58,
   "id": "7cac71f8",
   "metadata": {},
   "outputs": [],
   "source": [
    "def format_docs(docs):\n",
    "    return \"\\n\\n\".join(doc.page_content for doc in docs)"
   ]
  },
  {
   "cell_type": "code",
   "execution_count": 37,
   "id": "8d453c9e",
   "metadata": {},
   "outputs": [],
   "source": [
    "# Load a PDF and validate the page count\n",
    "file_path = \"C:\\\\Users\\\\sunny\\\\OneDrive\\\\Documents\\\\Agentic AI Course\\\\agentic_AI\\\\RAG Vol 1\\\\2023050195.pdf\"\n",
    "loader = PyPDFLoader(file_path)\n",
    "pages = loader.load()\n",
    "\n",
    "if len(pages) < 200:\n",
    "    raise ValueError(\"The PDF must have at least 200 pages.\")\n",
    "\n",
    "#Using semantic chunking with recursive text splitter\n",
    "text_splitter = RecursiveCharacterTextSplitter(chunk_size=500, chunk_overlap=100)\n",
    "chunks = text_splitter.split_documents(pages)\n",
    "\n",
    "\n",
    "# Hugging Face embedding\n",
    "embedding_model = HuggingFaceEmbeddings(model_name=\"all-MiniLM-L6-v2\")\n",
    "\n",
    "faiss_flat = FAISS.from_documents(chunks, embedding_model)\n",
    "retriever_flat = faiss_flat.as_retriever()"
   ]
  },
  {
   "cell_type": "code",
   "execution_count": 59,
   "id": "6d1c009c",
   "metadata": {},
   "outputs": [],
   "source": [
    "# RAG Function\n",
    "def function_2(state:AgentState):\n",
    "    print(\"-> RAG Call ->\")\n",
    "    \n",
    "    question = state[\"messages\"][0]\n",
    "    \n",
    "    prompt=PromptTemplate(\n",
    "        template=\"\"\"You are an assistant for question-answering tasks. Use the following pieces of retrieved context to answer the question. If you don't know the answer, just say that you don't know. Use three sentences maximum and keep the answer concise.\\nQuestion: {question} \\nContext: {context} \\nAnswer:\"\"\",\n",
    "        \n",
    "        input_variables=['context', 'question']\n",
    "    )\n",
    "    \n",
    "    rag_chain = (\n",
    "        {\"context\": retriever_flat | format_docs, \"question\": RunnablePassthrough()}\n",
    "        | prompt\n",
    "        | model\n",
    "        | StrOutputParser()\n",
    "    )\n",
    "    result = rag_chain.invoke(question)\n",
    "    return  {\"messages\": [result]}"
   ]
  },
  {
   "cell_type": "code",
   "execution_count": 77,
   "id": "9be31078",
   "metadata": {},
   "outputs": [],
   "source": [
    "# LLM Function\n",
    "def function_3(state:AgentState):\n",
    "    print(\"-> LLM Call ->\")\n",
    "    question = state[\"messages\"][0]\n",
    "    \n",
    "    # Normal LLM call\n",
    "    complete_query = \"Answer the follow question with you knowledge of the real world. Following is the user question: \" + question\n",
    "    response = model.invoke(complete_query)\n",
    "    return {\"messages\": [response.content]}"
   ]
  },
  {
   "cell_type": "code",
   "execution_count": 87,
   "id": "ccaab8cd",
   "metadata": {},
   "outputs": [],
   "source": [
    "from langchain_community.tools import DuckDuckGoSearchRun\n",
    "def search_fun(state:AgentState):\n",
    "    search=DuckDuckGoSearchRun()\n",
    "    result = search.invoke({\"query\":state[\"messages\"][0]})\n",
    "    return {\"messages\": [result]}\n"
   ]
  },
  {
   "cell_type": "code",
   "execution_count": 62,
   "id": "5aaf056e",
   "metadata": {},
   "outputs": [],
   "source": [
    "def function_4(state:AgentState):\n",
    "    \n",
    "    question = state[\"messages\"][0]\n",
    "    answer=state[\"messages\"][-1]\n",
    "    \n",
    "    print(\"answer\",answer)\n",
    "    \n",
    "    template=\"\"\"\n",
    "    Your task is to check if the response is related to the user question. \n",
    "    Only respond with yes or no and nothing else.\n",
    "\n",
    "    User query: {question}\n",
    "    response: {answer}\n",
    "    {format_instructions}\n",
    "    \"\"\"\n",
    "    \n",
    "    prompt= PromptTemplate(\n",
    "        template=template,\n",
    "        input_variable=[\"question\",\"answer\"],\n",
    "        partial_variables={\"format_instructions\": parser.get_format_instructions()}\n",
    "    )\n",
    "    \n",
    "    \n",
    "    chain= prompt | model | parser\n",
    "    \n",
    "    response = chain.invoke({\"question\":question,\"answer\":answer})\n",
    "    \n",
    "    print(\"Parsed response:\", response)\n",
    "    \n",
    "    return {\"messages\": [response.Topic]}"
   ]
  },
  {
   "cell_type": "code",
   "execution_count": 67,
   "id": "f066a6f1",
   "metadata": {},
   "outputs": [],
   "source": [
    "def router_1(state:AgentState):\n",
    "    print(\"-> ROUTER_1 ->\")\n",
    "    \n",
    "    last_message=state[\"messages\"][-1]\n",
    "    print(\"last_message:\", last_message)\n",
    "    \n",
    "    if \"yes\" in last_message.lower():\n",
    "        return \"yes\"\n",
    "    else:\n",
    "        return \"no\""
   ]
  },
  {
   "cell_type": "code",
   "execution_count": 89,
   "id": "8b95ffb4",
   "metadata": {},
   "outputs": [
    {
     "data": {
      "text/plain": [
       "<langgraph.graph.state.StateGraph at 0x1d4d3f7bc90>"
      ]
     },
     "execution_count": 89,
     "metadata": {},
     "output_type": "execute_result"
    }
   ],
   "source": [
    "workflow=StateGraph(AgentState)\n",
    "workflow.add_node(\"Supervisor\",function_1)\n",
    "workflow.add_node(\"RAG\",function_2)\n",
    "workflow.add_node(\"LLM\",function_3)\n",
    "workflow.add_node(\"WEB\", search_fun)\n",
    "workflow.add_node(\"VALIDATION\",function_4)\n",
    "workflow.set_entry_point(\"Supervisor\")"
   ]
  },
  {
   "cell_type": "code",
   "execution_count": 90,
   "id": "9cd5b112",
   "metadata": {},
   "outputs": [
    {
     "data": {
      "text/plain": [
       "<langgraph.graph.state.StateGraph at 0x1d4d3f7bc90>"
      ]
     },
     "execution_count": 90,
     "metadata": {},
     "output_type": "execute_result"
    }
   ],
   "source": [
    "workflow.add_conditional_edges(\n",
    "    \"Supervisor\",\n",
    "    router,\n",
    "    {\n",
    "        \"RAG Call\": \"RAG\",\n",
    "        \"LLM Call\": \"LLM\",\n",
    "        \"WEB Call\": \"WEB\",\n",
    "    }\n",
    ")"
   ]
  },
  {
   "cell_type": "code",
   "execution_count": 91,
   "id": "84915291",
   "metadata": {},
   "outputs": [
    {
     "data": {
      "text/plain": [
       "<langgraph.graph.state.StateGraph at 0x1d4d3f7bc90>"
      ]
     },
     "execution_count": 91,
     "metadata": {},
     "output_type": "execute_result"
    }
   ],
   "source": [
    "workflow.add_edge(\"RAG\",\"VALIDATION\")\n",
    "workflow.add_edge(\"LLM\",\"VALIDATION\")\n",
    "workflow.add_edge(\"WEB\",\"VALIDATION\")\n",
    "\n",
    "workflow.add_conditional_edges(\n",
    "    \"VALIDATION\",\n",
    "    router_1,\n",
    "    {\n",
    "        \"yes\": END,\n",
    "        \"no\":\"Supervisor\"\n",
    "    }\n",
    "\n",
    ")"
   ]
  },
  {
   "cell_type": "code",
   "execution_count": 92,
   "id": "454085fb",
   "metadata": {},
   "outputs": [],
   "source": [
    "app=workflow.compile()"
   ]
  },
  {
   "cell_type": "code",
   "execution_count": 93,
   "id": "eefed604",
   "metadata": {},
   "outputs": [
    {
     "data": {
      "image/png": "[encoded data removed]",
      "text/plain": [
       "<IPython.core.display.Image object>"
      ]
     },
     "metadata": {},
     "output_type": "display_data"
    }
   ],
   "source": [
    "from IPython.display import Image, display\n",
    "display(Image(app.get_graph(xray=True).draw_mermaid_png()))"
   ]
  },
  {
   "cell_type": "code",
   "execution_count": 84,
   "id": "f4e53dcf",
   "metadata": {},
   "outputs": [
    {
     "name": "stdout",
     "output_type": "stream",
     "text": [
      "Question How to make black tea?, list down in simple steps\n",
      "Parsed response: Topic='LLM' Reasoning='The query is a generic question about making tea, not related to the Indian Constitution or recent events.'\n",
      "-> ROUTER ->\n",
      "last_message: LLM\n",
      "-> LLM Call ->\n",
      "answer How to Make Black Tea (Simple Steps):\n",
      "\n",
      "1. **Boil Water:**  Heat water to a rolling boil.  The exact temperature isn't critical for black tea, but generally, boiling is fine.\n",
      "\n",
      "2. **Warm the Teapot (Optional but recommended):**  Pour a small amount of boiling water into your teapot and swirl it around to preheat.  This helps keep the tea warmer for longer.  Empty the water out.\n",
      "\n",
      "3. **Add Tea Leaves:** Add 1 teaspoon of loose leaf black tea or 1 tea bag per 6 ounces (177ml) of water to the teapot.  Adjust to your taste; more tea = stronger brew.\n",
      "\n",
      "4. **Pour Water Over Tea:** Slowly pour the boiling water over the tea leaves or tea bag.\n",
      "\n",
      "5. **Steep:** Let the tea steep for 3-5 minutes.  Steeping for longer will result in a stronger, more bitter tea. Experiment to find your preference.\n",
      "\n",
      "6. **Remove Tea Leaves/Bag:** Remove the tea bag or strain out the loose leaf tea.\n",
      "\n",
      "7. **Serve and Enjoy:** Pour the tea into your cup and enjoy! You can add milk, sugar, lemon, or honey to taste.\n",
      "Parsed response: Topic='yes' Reasoning=\"The response provides a step-by-step guide on how to make black tea, directly addressing the user's question.\"\n",
      "-> ROUTER_1 ->\n",
      "last_message: yes\n"
     ]
    },
    {
     "data": {
      "text/plain": [
       "{'messages': ['How to make black tea?, list down in simple steps',\n",
       "  'LLM',\n",
       "  \"How to Make Black Tea (Simple Steps):\\n\\n1. **Boil Water:**  Heat water to a rolling boil.  The exact temperature isn't critical for black tea, but generally, boiling is fine.\\n\\n2. **Warm the Teapot (Optional but recommended):**  Pour a small amount of boiling water into your teapot and swirl it around to preheat.  This helps keep the tea warmer for longer.  Empty the water out.\\n\\n3. **Add Tea Leaves:** Add 1 teaspoon of loose leaf black tea or 1 tea bag per 6 ounces (177ml) of water to the teapot.  Adjust to your taste; more tea = stronger brew.\\n\\n4. **Pour Water Over Tea:** Slowly pour the boiling water over the tea leaves or tea bag.\\n\\n5. **Steep:** Let the tea steep for 3-5 minutes.  Steeping for longer will result in a stronger, more bitter tea. Experiment to find your preference.\\n\\n6. **Remove Tea Leaves/Bag:** Remove the tea bag or strain out the loose leaf tea.\\n\\n7. **Serve and Enjoy:** Pour the tea into your cup and enjoy! You can add milk, sugar, lemon, or honey to taste.\",\n",
       "  'yes']}"
      ]
     },
     "execution_count": 84,
     "metadata": {},
     "output_type": "execute_result"
    }
   ],
   "source": [
    "state={\"messages\":[\"How to make black tea?, list down in simple steps\"]}\n",
    "app.invoke(state)"
   ]
  },
  {
   "cell_type": "code",
   "execution_count": 85,
   "id": "77fbaddc",
   "metadata": {},
   "outputs": [
    {
     "name": "stdout",
     "output_type": "stream",
     "text": [
      "Question List all the fundamental duties?\n",
      "Parsed response: Topic='Constitution' Reasoning='The query directly asks about fundamental duties, a key component of the Indian Constitution.'\n",
      "-> ROUTER ->\n",
      "last_message: Constitution\n",
      "-> RAG Call ->\n",
      "answer The fundamental duties of Indian citizens include abiding by the Constitution and respecting its ideals, cherishing the ideals of the freedom struggle, and upholding India's sovereignty, unity, and integrity.  Additionally, citizens are to defend the country and render national service when called upon.  Further duties include protecting the environment, safeguarding forests and wildlife, and promoting international peace and security.\n",
      "Parsed response: Topic='yes' Reasoning=\"The response directly addresses the user's request by listing the fundamental duties.\"\n",
      "-> ROUTER_1 ->\n",
      "last_message: yes\n"
     ]
    },
    {
     "data": {
      "text/plain": [
       "{'messages': ['List all the fundamental duties?',\n",
       "  'Constitution',\n",
       "  \"The fundamental duties of Indian citizens include abiding by the Constitution and respecting its ideals, cherishing the ideals of the freedom struggle, and upholding India's sovereignty, unity, and integrity.  Additionally, citizens are to defend the country and render national service when called upon.  Further duties include protecting the environment, safeguarding forests and wildlife, and promoting international peace and security.\",\n",
       "  'yes']}"
      ]
     },
     "execution_count": 85,
     "metadata": {},
     "output_type": "execute_result"
    }
   ],
   "source": [
    "state={\"messages\":[\"List all the fundamental duties?\"]}\n",
    "app.invoke(state)"
   ]
  },
  {
   "cell_type": "code",
   "execution_count": 96,
   "id": "376f6556",
   "metadata": {},
   "outputs": [
    {
     "name": "stdout",
     "output_type": "stream",
     "text": [
      "Question what is the net worth of Elon Musk\n",
      "Parsed response: Topic='Latest' Reasoning=\"The query asks about Elon Musk's net worth, which is a current event and not directly related to the Indian Constitution or LLMs.\"\n",
      "-> ROUTER ->\n",
      "last_message: Latest\n"
     ]
    },
    {
     "name": "stderr",
     "output_type": "stream",
     "text": [
      "c:\\Users\\sunny\\anaconda3\\envs\\agentic_2_base\\Lib\\site-packages\\langchain_community\\utilities\\duckduckgo_search.py:64: UserWarning: backend='api' is deprecated, using backend='auto'\n",
      "  ddgs_gen = ddgs.text(\n"
     ]
    },
    {
     "name": "stdout",
     "output_type": "stream",
     "text": [
      "answer Tesla shares fell after Elon Musk's public disagreement with the president. Musk's net worth, though still the world's highest, has fluctuated significantly, peaking at $400 billion in December 2024. Elon Musk on the 2025 The Richest Person In Every State. ... Elon Musk's net worth fell by the equivalent of almost five times Trump's $5.5 billion net worth Thursday. Elon Musk remains the world's richest person in 2025 with a net worth of $369 billion, according to Benzinga. The Tesla CEO holds his standing, even after a $63.5 billion year-to-date drop in ... Elon Musk's net worth peaked at $486 billion in December 2024, but by March 2025, his fortune had decreased to approximately $330 billion. The market capitalization of Tesla's stock fell from ... Elon Musk is a South African-born Canadian-American businessman, inventor, and investor who has a net worth of $368 billion. Elon Musk is currently the richest person in the world. In November ...\n",
      "Parsed response: Topic='yes' Reasoning=\"The response directly addresses the user's question about Elon Musk's net worth, providing various figures and details about its fluctuations.\"\n",
      "-> ROUTER_1 ->\n",
      "last_message: yes\n"
     ]
    },
    {
     "data": {
      "text/plain": [
       "{'messages': ['what is the net worth of Elon Musk',\n",
       "  'Latest',\n",
       "  \"Tesla shares fell after Elon Musk's public disagreement with the president. Musk's net worth, though still the world's highest, has fluctuated significantly, peaking at $400 billion in December 2024. Elon Musk on the 2025 The Richest Person In Every State. ... Elon Musk's net worth fell by the equivalent of almost five times Trump's $5.5 billion net worth Thursday. Elon Musk remains the world's richest person in 2025 with a net worth of $369 billion, according to Benzinga. The Tesla CEO holds his standing, even after a $63.5 billion year-to-date drop in ... Elon Musk's net worth peaked at $486 billion in December 2024, but by March 2025, his fortune had decreased to approximately $330 billion. The market capitalization of Tesla's stock fell from ... Elon Musk is a South African-born Canadian-American businessman, inventor, and investor who has a net worth of $368 billion. Elon Musk is currently the richest person in the world. In November ...\",\n",
       "  'yes']}"
      ]
     },
     "execution_count": 96,
     "metadata": {},
     "output_type": "execute_result"
    }
   ],
   "source": [
    "state={\"messages\":[\"what is the net worth of Elon Musk\"]}\n",
    "app.invoke(state)"
   ]
  },
  {
   "cell_type": "code",
   "execution_count": null,
   "id": "b460e3a4",
   "metadata": {},
   "outputs": [],
   "source": []
  }
 ],
 "metadata": {
  "kernelspec": {
   "display_name": "agentic_2_base",
   "language": "python",
   "name": "python3"
  },
  "language_info": {
   "codemirror_mode": {
    "name": "ipython",
    "version": 3
   },
   "file_extension": ".py",
   "mimetype": "text/x-python",
   "name": "python",
   "nbconvert_exporter": "python",
   "pygments_lexer": "ipython3",
   "version": "3.11.11"
  }
 },
 "nbformat": 4,
 "nbformat_minor": 5
}
